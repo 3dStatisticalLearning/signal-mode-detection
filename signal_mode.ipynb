{
 "cells": [
  {
   "cell_type": "markdown",
   "id": "97af8afd",
   "metadata": {},
   "source": [
    "# I. Problem Description\n",
    "\n",
    "# II. Analyzing  the signal\n",
    "## 1. Preprocess the Data and perform preliminary descriptions\n",
    "\n",
    "- Perform missing value analysis. \n",
    "\n",
    "- Conduct a plausibility check to ensure data integrity.\n",
    "\n",
    "---\n",
    "\n",
    "## 2. Perform Statistical Analysis and Visualizations\n",
    "\n",
    "- Analyze the **Voltage / V** signal using descriptive statistics. \n",
    "\n",
    "- Generate appropriate visualizations for better understanding.\n",
    "\n",
    "---\n",
    "\n",
    "## 3. Develop a Classification Method\n",
    "\n",
    "- Classify the time-series signal into two modes: **\"on\"** and **\"off\"**. \n",
    "    \n",
    "- Use an appropriate classification method.\n",
    "\n",
    "# III. Method for Fast Mode Detection using Maximum Likelihood Estimation (MLE): Sliding Window Analysis\n",
    "\n",
    "# IV. Project Outlook: Advancing Signal Detection and Analysis"
   ]
  },
  {
   "cell_type": "markdown",
   "id": "0d44b60e",
   "metadata": {},
   "source": [
    "\n",
    "# I. Problem Description \n",
    "\n",
    "\n",
    "- We have a time series signal that switches between two modes: **on** (e.g., at *t = 0s*) and **off** (e.g., at *t = 0.001504s*).\n",
    "\n",
    "- These modes correspond to different signal values.\n",
    "\n",
    "- Our goal is to develop a method for correct mode detection.\n",
    "\n",
    "- This will be done by the following steps:\n",
    "\n",
    "  - Descriptive analysis of the signal in order to visually identify a mode detection if possible  \n",
    "  - First method for mode detection  \n",
    "  - Method for fast mode detection  \n",
    "  - Suggestions for improvement  \n",
    "\n",
    "\n"
   ]
  },
  {
   "cell_type": "code",
   "execution_count": 1,
   "id": "61486ee3",
   "metadata": {},
   "outputs": [
    {
     "name": "stderr",
     "output_type": "stream",
     "text": [
      "C:\\Users\\Admin\\anaconda3\\lib\\site-packages\\pandas\\core\\computation\\expressions.py:21: UserWarning: Pandas requires version '2.8.4' or newer of 'numexpr' (version '2.8.1' currently installed).\n",
      "  from pandas.core.computation.check import NUMEXPR_INSTALLED\n",
      "C:\\Users\\Admin\\anaconda3\\lib\\site-packages\\pandas\\core\\arrays\\masked.py:60: UserWarning: Pandas requires version '1.3.6' or newer of 'bottleneck' (version '1.3.4' currently installed).\n",
      "  from pandas.core import (\n"
     ]
    }
   ],
   "source": [
    "# Import the necessary libraries and load the dataset\n",
    "import pandas as pd\n",
    "import numpy as np\n",
    "import matplotlib.pyplot as plt\n",
    "from scipy.stats import norm\n",
    "from sklearn.metrics import confusion_matrix\n",
    "from sklearn.cluster import KMeans\n"
   ]
  },
  {
   "cell_type": "code",
   "execution_count": 2,
   "id": "5f6f5b33",
   "metadata": {},
   "outputs": [
    {
     "name": "stdout",
     "output_type": "stream",
     "text": [
      "II. Analyze the Signal\n",
      "\n",
      "Display the first 5 rows of the data\n",
      "\n",
      "   time / s  Voltage / V\n",
      "0  0.000000    32.062439\n",
      "1  0.000016    36.055511\n",
      "2  0.000025    36.235344\n",
      "3  0.000026    39.962482\n",
      "4  0.000029    37.336311\n"
     ]
    }
   ],
   "source": [
    "def analyze_signal():\n",
    "    \"\"\"analyze_signal\"\"\"\n",
    "    print(\"II. Analyze the Signal\")\n",
    "    print()\n",
    "analyze_signal()\n",
    "\n",
    "#  Load the dataset and preview the first 5 observations\n",
    "df = pd.read_excel('C:/Users/Admin/Desktop/3dstatisticallearning/Use Cases/Use Cases Machine Learning/Findiq/data.xlsx')\n",
    "\n",
    "# Display the first 5 rows of the data\n",
    "\n",
    "def inspect_Data():\n",
    "    \"\"\"Display the first 5 rows of the data\"\"\"\n",
    "    print(\"Display the first 5 rows of the data\")\n",
    "    print()\n",
    "    \n",
    "inspect_Data()\n",
    "\n",
    "\n",
    "print(df.head())"
   ]
  },
  {
   "cell_type": "markdown",
   "id": "7054d736",
   "metadata": {},
   "source": [
    "# II. Analyzing the Signal\n",
    "\n",
    "We analyze the signal through the following four steps:\n",
    "\n",
    "---\n",
    "\n",
    "## 1. Preprocess the Data and perform preliminary descriptions\n",
    "\n",
    "- Perform missing value analysis. \n",
    "\n",
    "- Conduct a plausibility check to ensure data integrity.\n",
    "\n",
    "---\n",
    "\n",
    "## 2. Perform Statistical Analysis and Visualizations\n",
    "\n",
    "- Analyze the **Voltage / V** signal using descriptive statistics. \n",
    "\n",
    "- Generate appropriate visualizations for better understanding.\n",
    "\n",
    "---\n",
    "\n",
    "## 3. Develop a Classification Method\n",
    "\n",
    "- Classify the time-series signal into two modes: **\"on\"** and **\"off\"**. \n",
    "    \n",
    "- Use an appropriate classification method.\n",
    "\n",
    "\n"
   ]
  },
  {
   "cell_type": "markdown",
   "id": "4a3281d5",
   "metadata": {},
   "source": [
    "\n",
    "## 1. Preprocess the Data and perform preliminary descriptions"
   ]
  },
  {
   "cell_type": "code",
   "execution_count": 3,
   "id": "11ba92d7",
   "metadata": {},
   "outputs": [
    {
     "name": "stdout",
     "output_type": "stream",
     "text": [
      "Missing Value Analysis:\n",
      "time / s       0\n",
      "Voltage / V    0\n",
      "dtype: int64\n",
      "Total Missing Values: 0\n",
      "No missing values detected in the dataset.\n"
     ]
    }
   ],
   "source": [
    "\n",
    "# Step 1: Missing Value Analysis\n",
    "missing_values = df.isnull().sum()\n",
    "total_missing = missing_values.sum()\n",
    "missing_percentage = (missing_values / len(df)) * 100\n",
    "\n",
    "# Print Missing Value Summary\n",
    "print(\"Missing Value Analysis:\")\n",
    "\n",
    "\n",
    "print(missing_values)\n",
    "\n",
    "print(f\"Total Missing Values: {total_missing}\")\n",
    "if total_missing > 0:\n",
    "    print(f\"Percentage of Missing Data: {missing_percentage}%\")\n",
    "else:\n",
    "    print(\"No missing values detected in the dataset.\")\n",
    "   "
   ]
  },
  {
   "cell_type": "markdown",
   "id": "87375e80",
   "metadata": {},
   "source": [
    "## 2. Perform Statistical Analysis and Visualizations"
   ]
  },
  {
   "cell_type": "code",
   "execution_count": 4,
   "id": "94eb4ff6",
   "metadata": {},
   "outputs": [
    {
     "name": "stdout",
     "output_type": "stream",
     "text": [
      "Univariate  Descriptive Statistics Voltage\n",
      "\n",
      "\n",
      "Mean: 29.94\n",
      "\n",
      "Median: 35.34\n",
      "\n",
      "1st Quartile (Q1): 33.53\n",
      "\n",
      "3rd Quartile (Q3): 37.16\n",
      "\n",
      "Range: 41.34\n",
      "\n",
      "Minimum: 0.00\n",
      "\n",
      "Maximum: 41.34\n",
      "\n",
      "Interquartile Range (IQR): 3.64\n"
     ]
    }
   ],
   "source": [
    "\n",
    "def inspect_Data():\n",
    "    \"\"\"Univariate  Descriptive Statistics Voltage\"\"\"\n",
    "    print(\"Univariate  Descriptive Statistics Voltage\")\n",
    "    print()\n",
    "    \n",
    "inspect_Data()\n",
    "\n",
    "# Step 2: Univariate  Descriptive Statistics Voltage\n",
    "\n",
    "mean_voltage = df[\"Voltage / V\"].mean()\n",
    "median_voltage = df[\"Voltage / V\"].median()  # Median used as the threshold\n",
    "q1_voltage = df[\"Voltage / V\"].quantile(0.25)\n",
    "q3_voltage = df[\"Voltage / V\"].quantile(0.75)\n",
    "range_voltage = df[\"Voltage / V\"].max() - df[\"Voltage / V\"].min()\n",
    "min_voltage = df[\"Voltage / V\"].min()\n",
    "max_voltage = df[\"Voltage / V\"].max()\n",
    "iqr_voltage = q3_voltage - q1_voltage  # Interquartile Range\n",
    "\n",
    "# Print Descriptive Statistics\n",
    "print()\n",
    "\n",
    "print(f\"Mean: {mean_voltage:.2f}\")\n",
    "\n",
    "print()\n",
    "\n",
    "print(f\"Median: {median_voltage:.2f}\")\n",
    "\n",
    "print()\n",
    "\n",
    "print(f\"1st Quartile (Q1): {q1_voltage:.2f}\")\n",
    "\n",
    "print()\n",
    "\n",
    "print(f\"3rd Quartile (Q3): {q3_voltage:.2f}\")\n",
    "\n",
    "print()\n",
    "\n",
    "print(f\"Range: {range_voltage:.2f}\")\n",
    "\n",
    "print()\n",
    "\n",
    "print(f\"Minimum: {min_voltage:.2f}\")\n",
    "\n",
    "print()\n",
    "\n",
    "print(f\"Maximum: {max_voltage:.2f}\")\n",
    "\n",
    "print()\n",
    "\n",
    "print(f\"Interquartile Range (IQR): {iqr_voltage:.2f}\")\n",
    "\n"
   ]
  },
  {
   "cell_type": "code",
   "execution_count": 5,
   "id": "7ee5dc80",
   "metadata": {},
   "outputs": [
    {
     "name": "stdout",
     "output_type": "stream",
     "text": [
      "Univariate  Descriptive Statistics time: Mostly for Convenience\n",
      "\n",
      "\n",
      "Descriptive Statistics for time:\n",
      "\n",
      "Mean: 0.48\n",
      "\n",
      "Median (used as threshold): 0.49\n",
      "\n",
      "1st Quartile (Q1): 0.23\n",
      "\n",
      "3rd Quartile (Q3): 0.75\n",
      "\n",
      "Range: 1.00\n",
      "\n",
      "Minimum: 0.00\n",
      "\n",
      "Maximum: 1.00\n",
      "\n",
      "Interquartile Range (IQR): 0.51\n"
     ]
    }
   ],
   "source": [
    "    \n",
    "#  Univariate  Descriptive Statistics time\n",
    "\n",
    "def inspect_Data():\n",
    "    \"\"\"Univariate  Descriptive Statistics time\"\"\"\n",
    "    print(\"Univariate  Descriptive Statistics time: Mostly for Convenience\")\n",
    "    print()\n",
    "    \n",
    "inspect_Data()\n",
    "\n",
    "## The analysis of time is mostly for convenience. The variable of interest is actually the Voltage\n",
    "\n",
    "mean_time = df[\"time / s\"].mean()\n",
    "median_time = df[\"time / s\"].median()  # Median used as the threshold\n",
    "q1_time = df[\"time / s\"].quantile(0.25)\n",
    "q3_time = df[\"time / s\"].quantile(0.75)\n",
    "range_time = df[\"time / s\"].max() - df[\"time / s\"].min()\n",
    "min_time = df[\"time / s\"].min()\n",
    "max_time = df[\"time / s\"].max()\n",
    "iqr_time = q3_time - q1_time  # Interquartile Range\n",
    "\n",
    "# Print Descriptive Statistics\n",
    "print(\"\\nDescriptive Statistics for time:\")\n",
    "print()\n",
    "print(f\"Mean: {mean_time:.2f}\")\n",
    "print()\n",
    "print(f\"Median (used as threshold): {median_time:.2f}\")\n",
    "print()\n",
    "print(f\"1st Quartile (Q1): {q1_time:.2f}\")\n",
    "print()\n",
    "print(f\"3rd Quartile (Q3): {q3_time:.2f}\")\n",
    "print()\n",
    "print(f\"Range: {range_time:.2f}\")\n",
    "print()\n",
    "print(f\"Minimum: {min_time:.2f}\")\n",
    "print()\n",
    "print(f\"Maximum: {max_time:.2f}\")\n",
    "print()\n",
    "print(f\"Interquartile Range (IQR): {iqr_time:.2f}\")\n",
    "\n"
   ]
  },
  {
   "cell_type": "code",
   "execution_count": 6,
   "id": "9075e62c",
   "metadata": {},
   "outputs": [
    {
     "name": "stdout",
     "output_type": "stream",
     "text": [
      "Visualization\n",
      "\n"
     ]
    },
    {
     "data": {
      "image/png": "[encoded data removed]",
      "text/plain": [
       "<Figure size 1008x504 with 2 Axes>"
      ]
     },
     "metadata": {
      "needs_background": "light"
     },
     "output_type": "display_data"
    }
   ],
   "source": [
    "\n",
    "def inspect_Data():\n",
    "    \"\"\"Visualization\"\"\"\n",
    "    print(\"Visualization\")\n",
    "    print()\n",
    "    \n",
    "inspect_Data()\n",
    "\n",
    "\n",
    "# Visualization\n",
    "plt.figure(figsize=(14, 7))\n",
    "\n",
    "# Subplot 1: Histogram with KDE\n",
    "plt.subplot(1, 2, 1)\n",
    "# Plot histogram\n",
    "plt.hist(df[\"Voltage / V\"], bins=10, color=\"blue\", alpha=0.7, edgecolor=\"black\", label=\"Histogram\")\n",
    "# Plot KDE (Kernel Density Estimation)\n",
    "from scipy.stats import gaussian_kde\n",
    "kde = gaussian_kde(df[\"Voltage / V\"])\n",
    "x_range = range(int(min(df[\"Voltage / V\"])), int(max(df[\"Voltage / V\"])) + 1)\n",
    "plt.plot(x_range, kde(x_range), color=\"red\", label=\"KDE\")\n",
    "plt.title(\"Voltage Distribution (Histogram)\")\n",
    "plt.xlabel(\"Voltage / V\")\n",
    "plt.ylabel(\"Frequency\")\n",
    "plt.legend()\n",
    "\n",
    "# Subplot 2: Boxplot\n",
    "plt.subplot(1, 2, 2)\n",
    "plt.boxplot(df[\"Voltage / V\"], vert=False, patch_artist=True, boxprops=dict(facecolor=\"skyblue\"))\n",
    "plt.title(\"Voltage Distribution (Boxplot)\")\n",
    "plt.xlabel(\"Voltage / V\")\n",
    "\n",
    "# Show Plots\n",
    "plt.tight_layout()\n",
    "plt.show()\n",
    "\n",
    "\n",
    "\n",
    "\n",
    "\n",
    "\n",
    "\n",
    "\n",
    "\n"
   ]
  },
  {
   "cell_type": "markdown",
   "id": "bb6e0fe0",
   "metadata": {},
   "source": [
    "### Summary of the Visual Segmentation of the Signal\n",
    "\n",
    "- The previous figure clearly reveals that the signal can be visually segmented into two distinct parts:  \n",
    "  - One segment ranging approximately from 0 to 9,  \n",
    "  - And another from around 28 to 45.\n",
    "\n",
    "- This observation suggests a natural way to split the signal into two separate phases.\n",
    "\n",
    "- To formalize this segmentation and identify the **\"on\"** and **\"off\"** states, we will apply the **k-means clustering** method.\n",
    "\n",
    "- This approach has the advantage that we will not have to guest the cut points.\n"
   ]
  },
  {
   "cell_type": "markdown",
   "id": "620b8b97",
   "metadata": {},
   "source": [
    "## 3. Develop a Classification Method"
   ]
  },
  {
   "cell_type": "code",
   "execution_count": 7,
   "id": "76d41798",
   "metadata": {},
   "outputs": [
    {
     "name": "stdout",
     "output_type": "stream",
     "text": [
      "K-means Clustering to Identify the on and off states\n",
      "\n",
      "On State:\n",
      "        time / s  Voltage / V\n",
      "0       0.000000    32.062439\n",
      "1       0.000016    36.055511\n",
      "2       0.000025    36.235344\n",
      "3       0.000026    39.962482\n",
      "4       0.000029    37.336311\n",
      "...          ...          ...\n",
      "158749  0.956155    31.400637\n",
      "158750  0.956157    26.870058\n",
      "158751  0.956157    23.345234\n",
      "158752  0.956157    23.345234\n",
      "158753  0.956158    19.209373\n",
      "\n",
      "[134091 rows x 2 columns]\n",
      "\n",
      "Off State:\n",
      "        time / s  Voltage / V\n",
      "272     0.001388    18.384775\n",
      "273     0.001388    18.384775\n",
      "274     0.001389    14.866070\n",
      "275     0.001391    10.295630\n",
      "276     0.001391     5.830952\n",
      "...          ...          ...\n",
      "162495  0.999935     0.000000\n",
      "162496  0.999936     1.414214\n",
      "162497  0.999952     1.414214\n",
      "162498  0.999968     2.236068\n",
      "162499  0.999984     0.000000\n",
      "\n",
      "[28409 rows x 2 columns]\n",
      "\n",
      "Cluster Variances:\n",
      "Cluster\n",
      "0    3.961374\n",
      "1    4.572827\n",
      "Name: Voltage / V, dtype: float64\n"
     ]
    }
   ],
   "source": [
    "def inspect_Data():\n",
    "    \"\"\"K-means Clustering to Identify the \"on\" and \"off\" states\"\"\"\n",
    "    print(\"K-means Clustering to Identify the on and off states\")\n",
    "    print()\n",
    "    \n",
    "inspect_Data()\n",
    "\n",
    "# Extract the Voltage values for clustering\n",
    "voltage_values = df[\"Voltage / V\"].values.reshape(-1, 1)\n",
    "\n",
    "# Perform K-means clustering with 2 clusters\n",
    "kmeans = KMeans(n_clusters=2, random_state=42)\n",
    "kmeans.fit(voltage_values)\n",
    "\n",
    "# Add cluster labels to the original dataset\n",
    "df['Cluster'] = kmeans.labels_\n",
    "\n",
    "# Identify which cluster corresponds to the \"on\" and \"off\" states\n",
    "cluster_means = df.groupby('Cluster')[\"Voltage / V\"].mean()\n",
    "on_state_cluster = cluster_means.idxmax()  # Cluster with the higher mean voltage\n",
    "off_state_cluster = cluster_means.idxmin()  # Cluster with the lower mean voltage\n",
    "\n",
    "# Map clusters to \"on\" and \"off\" states\n",
    "df['State'] = df['Cluster'].map({on_state_cluster: 'on_state', off_state_cluster: 'off_state'})\n",
    "\n",
    "# Calculate variance for each cluster\n",
    "cluster_variances = df.groupby('Cluster')[\"Voltage / V\"].var()\n",
    "\n",
    "# Output the results\n",
    "print(\"On State:\")\n",
    "print(df[df['State'] == 'on_state'].drop(columns=['Cluster', 'State']))\n",
    "print(\"\\nOff State:\")\n",
    "print(df[df['State'] == 'off_state'].drop(columns=['Cluster', 'State']))\n",
    "print(\"\\nCluster Variances:\")\n",
    "print(cluster_variances)\n",
    "\n",
    "# Extract the on atate as well as off state data\n",
    "on_state = df[df['State'] == 'on_state'].drop(columns=['Cluster', 'State'])\n",
    "off_state = df[df['State'] == 'off_state'].drop(columns=['Cluster', 'State'])\n"
   ]
  },
  {
   "cell_type": "code",
   "execution_count": 8,
   "id": "1b729332",
   "metadata": {},
   "outputs": [
    {
     "name": "stdout",
     "output_type": "stream",
     "text": [
      "\n",
      "Mode Classification:\n",
      "\n",
      "Mean Voltage (On): 35.907904130979325\n",
      "\n",
      "Mean Voltage (Off): 1.7858838460241386\n"
     ]
    }
   ],
   "source": [
    "# Calculate the mean voltage for both states\n",
    "mean_on = on_state['Voltage / V'].mean()\n",
    "mean_off = off_state['Voltage / V'].mean()\n",
    "\n",
    "print(\"\\nMode Classification:\")\n",
    "print()\n",
    "print(f\"Mean Voltage (On): {mean_on}\")\n",
    "print()\n",
    "print(f\"Mean Voltage (Off): {mean_off}\")\n"
   ]
  },
  {
   "cell_type": "markdown",
   "id": "48954768",
   "metadata": {},
   "source": [
    " This segmentation aligns precisely with our initial visual observation, with the added advantage that it eliminates the need to subjectively determine a cutoff point.\n",
    " \n",
    " Now, let us visualize each signal state (on and off) individually.\n"
   ]
  },
  {
   "cell_type": "markdown",
   "id": "e70bf8ac",
   "metadata": {},
   "source": [
    "## Visualization of the On state"
   ]
  },
  {
   "cell_type": "code",
   "execution_count": 9,
   "id": "08cfa34c",
   "metadata": {},
   "outputs": [
    {
     "name": "stdout",
     "output_type": "stream",
     "text": [
      "\n",
      "\n"
     ]
    },
    {
     "data": {
      "image/png": "[encoded data removed]",
      "text/plain": [
       "<Figure size 1008x504 with 2 Axes>"
      ]
     },
     "metadata": {
      "needs_background": "light"
     },
     "output_type": "display_data"
    }
   ],
   "source": [
    "\n",
    "def inspect_Data():\n",
    "    \"\"\"\"\"\"\n",
    "    print(\"\")\n",
    "    print()\n",
    "    \n",
    "inspect_Data()\n",
    "\n",
    "\n",
    "# Visualiztion of the on state data    \n",
    "# Visualization\n",
    "plt.figure(figsize=(14, 7))\n",
    "\n",
    "# Subplot 1: Histogram with KDE\n",
    "plt.subplot(1, 2, 1)\n",
    "# Plot histogram\n",
    "plt.hist(on_state[\"Voltage / V\"], bins=10, color=\"blue\", alpha=0.7, edgecolor=\"black\", label=\"Histogram\")\n",
    "# Plot KDE (Kernel Density Estimation)\n",
    "from scipy.stats import gaussian_kde\n",
    "kde = gaussian_kde(on_state[\"Voltage / V\"])\n",
    "x_range = range(int(min(on_state[\"Voltage / V\"])), int(max(on_state[\"Voltage / V\"])) + 1)\n",
    "plt.plot(x_range, kde(x_range), color=\"red\", label=\"KDE\")\n",
    "plt.title(\"Voltage Distribution (Histogram) of the On State\")\n",
    "plt.xlabel(\"Voltage / V\")\n",
    "plt.ylabel(\"Frequency\")\n",
    "plt.legend()\n",
    "\n",
    "# Subplot 2: Boxplot\n",
    "plt.subplot(1, 2, 2)\n",
    "plt.boxplot(on_state[\"Voltage / V\"], vert=False, patch_artist=True, boxprops=dict(facecolor=\"skyblue\"))\n",
    "plt.title(\"Voltage Distribution (Boxplot) of the On State\")\n",
    "plt.xlabel(\"Voltage / V\")\n",
    "\n",
    "# Show Plots\n",
    "plt.tight_layout()\n",
    "plt.show()\n",
    "\n",
    "\n",
    "\n",
    "\n"
   ]
  },
  {
   "cell_type": "markdown",
   "id": "9b1e6bc4",
   "metadata": {},
   "source": [
    "- Values of the on state go from around 19 to around 45 as expected from the first histogram.\n",
    "\n",
    "- Visually, this segment of the signal appears to exhibit an approximately symmetric distribution.\n",
    "\n",
    "- The first and third quartiles appear to be symmetric with respect to the median, indicating a symmetrical distribution.\n",
    "\n",
    "- While visual symmetry is a helpful initial indicator, it does not conclusively imply that the data are normally distributed.\n",
    "\n",
    "- Formal statistical tests (e.g., the Shapiro-Wilk test) and diagnostic tools (e.g., Q-Q plots) are required to assess normality more rigorously.\n",
    "\n",
    "- Nonetheless, visual symmetry can be a useful starting point for assuming normality, especially when preparing for inferential statistical methods that rely on this assumption.\n"
   ]
  },
  {
   "cell_type": "markdown",
   "id": "82896011",
   "metadata": {},
   "source": [
    "## Visualization of the Off State"
   ]
  },
  {
   "cell_type": "code",
   "execution_count": 10,
   "id": "aabf2a30",
   "metadata": {},
   "outputs": [
    {
     "data": {
      "image/png": "[encoded data removed]",
      "text/plain": [
       "<Figure size 1008x504 with 2 Axes>"
      ]
     },
     "metadata": {
      "needs_background": "light"
     },
     "output_type": "display_data"
    }
   ],
   "source": [
    "\n",
    "# Visalization of the off State Data\n",
    "    \n",
    "# Visualization\n",
    "plt.figure(figsize=(14, 7))\n",
    "\n",
    "# Subplot 1: Histogram with KDE\n",
    "plt.subplot(1, 2, 1)\n",
    "# Plot histogram\n",
    "plt.hist(off_state[\"Voltage / V\"], bins=10, color=\"blue\", alpha=0.7, edgecolor=\"black\", label=\"Histogram\")\n",
    "# Plot KDE (Kernel Density Estimation)\n",
    "from scipy.stats import gaussian_kde\n",
    "kde = gaussian_kde(off_state[\"Voltage / V\"])\n",
    "x_range = range(int(min(off_state[\"Voltage / V\"])), int(max(off_state[\"Voltage / V\"])) + 1)\n",
    "plt.plot(x_range, kde(x_range), color=\"red\", label=\"KDE\")\n",
    "plt.title(\"Voltage Distribution (Histogram) of the off state\")\n",
    "plt.xlabel(\"Voltage / V\")\n",
    "plt.ylabel(\"Frequency\")\n",
    "plt.legend()\n",
    "\n",
    "# Subplot 2: Boxplot\n",
    "plt.subplot(1, 2, 2)\n",
    "plt.boxplot(off_state[\"Voltage / V\"], vert=False, patch_artist=True, boxprops=dict(facecolor=\"skyblue\"))\n",
    "plt.title(\"Voltage Distribution (Boxplot) of the off state\")\n",
    "plt.xlabel(\"Voltage / V\")\n",
    "\n",
    "# Show Plots\n",
    "plt.tight_layout()\n",
    "plt.show()\n"
   ]
  },
  {
   "cell_type": "markdown",
   "id": "fe1bdcf2",
   "metadata": {},
   "source": [
    "- Off-state values range approximately from 0 to 18, consistent with the initial histogram.\n",
    "\n",
    "- Visually, this signal segment doesn't appear to exhibit a symmetric distribution.\n",
    "\n",
    "- However, a log transformation is anticipated to induce normality.\n",
    "\n",
    "- Achieving a normal distribution is crucial for developing a robust statistical model to readily detect the signal, as it's a common assumption for the intended methodology and other statistical techniques."
   ]
  },
  {
   "cell_type": "code",
   "execution_count": 11,
   "id": "b5145d97",
   "metadata": {},
   "outputs": [
    {
     "data": {
      "image/png": "[encoded data removed]",
      "text/plain": [
       "<Figure size 1008x504 with 2 Axes>"
      ]
     },
     "metadata": {
      "needs_background": "light"
     },
     "output_type": "display_data"
    }
   ],
   "source": [
    "\n",
    "# --- Prepare the Data for Log Transformation ---\n",
    "# Filter out any non-positive voltage values (0 or negative)\n",
    "# as the logarithm is only defined for positive numbers.\n",
    "# This creates a new pandas Series containing only the valid values.\n",
    "positive_voltages = off_state[off_state[\"Voltage / V\"] > 0][\"Voltage / V\"]\n",
    "\n",
    "# --- Check if there's enough data to plot ---\n",
    "if positive_voltages.empty:\n",
    "    print(\"Warning: No positive voltage values found in the 'off_state' data after filtering. Cannot generate plots.\")\n",
    "else:\n",
    "    # Apply the natural logarithm transformation\n",
    "    log_transformed_voltages = np.log(positive_voltages)\n",
    "\n",
    "    # --- Visualization Setup ---\n",
    "    plt.figure(figsize=(14, 7))\n",
    "\n",
    "    # --- Subplot 1: Histogram with KDE for Log-Transformed Data ---\n",
    "    plt.subplot(1, 2, 1)\n",
    "    plt.hist(log_transformed_voltages, bins=15, color=\"blue\", alpha=0.7, edgecolor=\"black\", label=\"Histogram\")\n",
    "\n",
    "    # Only attempt KDE if there's more than one unique value (i.e., data has variance)\n",
    "    if log_transformed_voltages.nunique() > 1:\n",
    "        kde_log = gaussian_kde(log_transformed_voltages)\n",
    "        # Create a smooth range for the KDE plot based on the actual data limits\n",
    "        x_range_log = np.linspace(log_transformed_voltages.min(), log_transformed_voltages.max(), 500)\n",
    "        plt.plot(x_range_log, kde_log(x_range_log), color=\"red\", label=\"KDE\")\n",
    "    else:\n",
    "        print(\"Warning: All log-transformed voltage values are identical. KDE cannot be computed for this dataset.\")\n",
    "\n",
    "    plt.title(\"Log-Transformed Voltage Distribution (Histogram) of the Off State\")\n",
    "    plt.xlabel(\"Log(Voltage / V)\")\n",
    "    plt.ylabel(\"Frequency\")\n",
    "    plt.legend()\n",
    "\n",
    "    # --- Subplot 2: Boxplot for Log-Transformed Data ---\n",
    "    plt.subplot(1, 2, 2)\n",
    "    plt.boxplot(log_transformed_voltages, vert=False, patch_artist=True, boxprops=dict(facecolor=\"skyblue\"))\n",
    "    plt.title(\"Log-Transformed Voltage Distribution (Boxplot) of the Off State\")\n",
    "    plt.xlabel(\"Log(Voltage / V)\")\n",
    "\n",
    "    # --- Display Plots ---\n",
    "    plt.tight_layout() # Adjust layout to prevent overlapping titles/labels\n",
    "    plt.show()"
   ]
  },
  {
   "cell_type": "markdown",
   "id": "09c0de01",
   "metadata": {},
   "source": [
    "- Even after transformation, the \"Off State\" data does not visually exhibit a normal distribution.\n",
    "\n",
    "- A clear absence of visual symmetry generally indicates that a distribution is not symmetric, and therefore unlikely to be normally distributed.\n",
    "- In subsequent sections, we will assume however, that we deal with fast norml data, since we have enough observations, with the central limit theorem, we consider asmptotic normal dstribution\n"
   ]
  },
  {
   "cell_type": "markdown",
   "id": "b0bf7272",
   "metadata": {},
   "source": [
    "# III. Method for Fast Mode Detection using Maximum Likelihood Estimation (MLE): Sliding Window Analysis"
   ]
  },
  {
   "cell_type": "markdown",
   "id": "a022ae11",
   "metadata": {},
   "source": [
    "- In this part, we implement a fast method for mode detection using statistical techniques such as Maximum Likelihood Estimation (MLE).\n",
    "\n",
    "- This method calculates the likelihood of the signal belonging to either the \"on\" or \"off\" state based on the observed data\n",
    "\n",
    "- Perform MLE mode detection: For instance window_size=1000"
   ]
  },
  {
   "cell_type": "code",
   "execution_count": 13,
   "id": "d52b930b",
   "metadata": {},
   "outputs": [
    {
     "data": {
      "image/png": "[encoded data removed]",
      "text/plain": [
       "<Figure size 864x432 with 1 Axes>"
      ]
     },
     "metadata": {
      "needs_background": "light"
     },
     "output_type": "display_data"
    }
   ],
   "source": [
    "# Define a function to calculate MLE for Gaussian distribution\n",
    "def mle_detection(df, window_size=1000):\n",
    "    uncertainties = []\n",
    "    for start_idx in range(0, len(df) - window_size, window_size):\n",
    "        window = df[start_idx:start_idx + window_size]\n",
    "\n",
    "        # Fit Gaussian distributions to the \"on\" and \"off\" data\n",
    "        mean_on, std_on = norm.fit(on_state['Voltage / V'])\n",
    "        mean_off, std_off = norm.fit(off_state['Voltage / V'])\n",
    "\n",
    "        # Calculate likelihood for each mode (on or off)\n",
    "        likelihood_on = np.sum(norm.pdf(window['Voltage / V'], mean_on, std_on))\n",
    "        likelihood_off = np.sum(norm.pdf(window['Voltage / V'], mean_off, std_off))\n",
    "\n",
    "        # Compare likelihoods to decide on the mode\n",
    "        mode = 'on' if likelihood_on > likelihood_off else 'off'\n",
    "        uncertainties.append(mode)\n",
    "\n",
    "    return uncertainties\n",
    "\n",
    "# Perform MLE mode detection\n",
    "window_size=1000\n",
    "uncertainties_mle = mle_detection(df, window_size)\n",
    "\n",
    "# Plot the results of MLE-based mode detection\n",
    "plt.figure(figsize=(12, 6))\n",
    "plt.plot(uncertainties_mle)\n",
    "plt.title('Mode Detection Using MLE')\n",
    "plt.xlabel('Window Index')\n",
    "plt.ylabel('Detected Mode')\n",
    "plt.show()"
   ]
  },
  {
   "cell_type": "markdown",
   "id": "60c1390f",
   "metadata": {},
   "source": [
    "The figure allows automatic detection visually."
   ]
  },
  {
   "cell_type": "markdown",
   "id": "25b219c2",
   "metadata": {},
   "source": [
    "# IV. Project Outlook: Advancing Signal Detection and Analysis"
   ]
  },
  {
   "cell_type": "markdown",
   "id": "a8a9d442",
   "metadata": {},
   "source": [
    "\n",
    "This project is poised for significant enhancements, focusing on increased detection accuracy, robustness, and adaptability. Key areas for future development include:\n",
    "\n",
    "- Enriched Data Features: We'll expand our analytical scope by incorporating additional signal metadata, such as frequency characteristics, to provide a more comprehensive dataset for improved detection accuracy.\n",
    "\n",
    "- Advanced Noise Mitigation: We plan to implement sophisticated filtering techniques, including wavelet transforms and statistical filters (e.g., Kalman or particle filters), to further refine signal quality and enhance detection precision beyond current Savitzky-Golay applications.\n",
    "\n",
    "- Adaptive Thresholding: We'll develop dynamic thresholding mechanisms that leverage domain-specific knowledge to enable the model to adjust intelligently to varying signal conditions.\n",
    "\n",
    "- Algorithmic Sophistication: We'll explore and integrate advanced machine learning approaches, such as Support Vector Machines (SVMs) and robust Bayesian inference (building on current decision tree implementations), to address complex non-linearities and improve classification under uncertainty.\n",
    "\n",
    "- Contextual Robustness: We aim to analyze signal behavior across diverse environmental conditions and optimize observation window lengths to balance detection responsiveness with overall uncertainty reduction."
   ]
  },
  {
   "cell_type": "markdown",
   "id": "1fd50942",
   "metadata": {},
   "source": [
    "We would like to express our sincere gratitude to Dr. Dany Djeudeu for his valuable time and insightful guidance on this project.\n",
    "\n",
    "### We Can Analyze Your Signal Data Professionally\n",
    "\n",
    "### Contact Us\n",
    "\n",
    "For your signal data analysis needs, feel free to reach out to us at:\n",
    "\n",
    "**Email:** [info@3d-statistical-learning.com](mailto:info@3d-statistical-learning.com)"
   ]
  },
  {
   "cell_type": "code",
   "execution_count": null,
   "id": "65b19472",
   "metadata": {},
   "outputs": [],
   "source": []
  }
 ],
 "metadata": {
  "kernelspec": {
   "display_name": "Python (base)",
   "language": "python",
   "name": "base"
  },
  "language_info": {
   "codemirror_mode": {
    "name": "ipython",
    "version": 3
   },
   "file_extension": ".py",
   "mimetype": "text/x-python",
   "name": "python",
   "nbconvert_exporter": "python",
   "pygments_lexer": "ipython3",
   "version": "3.9.12"
  }
 },
 "nbformat": 4,
 "nbformat_minor": 5
}
